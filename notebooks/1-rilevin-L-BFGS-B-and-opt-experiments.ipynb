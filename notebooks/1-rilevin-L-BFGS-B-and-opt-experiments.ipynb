{
 "cells": [
  {
   "cell_type": "code",
   "execution_count": 1,
   "metadata": {},
   "outputs": [
    {
     "name": "stdout",
     "output_type": "stream",
     "text": [
      "CPU times: user 3 µs, sys: 1 µs, total: 4 µs\n",
      "Wall time: 7.15 µs\n"
     ]
    },
    {
     "name": "stderr",
     "output_type": "stream",
     "text": [
      "/home/rilevin/miniconda3/envs/mmort/lib/python3.6/importlib/_bootstrap.py:219: RuntimeWarning: numpy.ufunc size changed, may indicate binary incompatibility. Expected 216, got 192\n",
      "  return f(*args, **kwds)\n"
     ]
    },
    {
     "name": "stdout",
     "output_type": "stream",
     "text": [
      "QP solution: [ 0.30769231 -0.69230769  1.38461538]\n"
     ]
    }
   ],
   "source": [
    "%time\n",
    "from numpy import array, dot\n",
    "from qpsolvers import solve_qp\n",
    "\n",
    "M = array([[1., 2., 0.], [-8., 3., 2.], [0., 1., 1.]])\n",
    "P = dot(M.T, M)  # quick way to build a symmetric matrix\n",
    "q = dot(array([3., 2., 3.]), M).reshape((3,))\n",
    "G = array([[1., 2., 1.], [2., 0., 1.], [-1., 2., -1.]])\n",
    "h = array([3., 2., -2.]).reshape((3,))\n",
    "A = array([1., 1., 1.])\n",
    "b = array([1.])\n",
    "\n",
    "print(\"QP solution:\", solve_qp(P, q, G, h, A, b))\n"
   ]
  },
  {
   "cell_type": "code",
   "execution_count": 1,
   "metadata": {},
   "outputs": [
    {
     "name": "stderr",
     "output_type": "stream",
     "text": [
      "/home/rilevin/miniconda3/envs/mmort/lib/python3.6/importlib/_bootstrap.py:219: RuntimeWarning: numpy.ufunc size changed, may indicate binary incompatibility. Expected 216, got 192\n",
      "  return f(*args, **kwds)\n"
     ]
    }
   ],
   "source": [
    "import numpy as np\n",
    "import scipy.optimize\n",
    "LHS = np.load('nnls_LHS.npy', allow_pickle = True)"
   ]
  },
  {
   "cell_type": "code",
   "execution_count": 2,
   "metadata": {},
   "outputs": [],
   "source": [
    "RHS = np.load('nnls_RHS.npy', allow_pickle = True)"
   ]
  },
  {
   "cell_type": "code",
   "execution_count": 3,
   "metadata": {},
   "outputs": [
    {
     "data": {
      "text/plain": [
       "array(<37386x18647 sparse matrix of type '<class 'numpy.float64'>'\n",
       "\twith 28981698 stored elements in Compressed Sparse Row format>,\n",
       "      dtype=object)"
      ]
     },
     "execution_count": 3,
     "metadata": {},
     "output_type": "execute_result"
    }
   ],
   "source": [
    "LHS"
   ]
  },
  {
   "cell_type": "code",
   "execution_count": 4,
   "metadata": {},
   "outputs": [
    {
     "data": {
      "text/plain": [
       "array([ 12.79973191,  13.14349167,  13.26035877, ...,   0.87443094,\n",
       "       112.45822314,   1.81004721])"
      ]
     },
     "execution_count": 4,
     "metadata": {},
     "output_type": "execute_result"
    }
   ],
   "source": [
    "RHS"
   ]
  },
  {
   "cell_type": "code",
   "execution_count": 120,
   "metadata": {
    "scrolled": true
   },
   "outputs": [
    {
     "name": "stdout",
     "output_type": "stream",
     "text": [
      "   Iteration        Cost      Cost reduction    Step norm     Optimality   \n",
      "       0         7.0917e+06                                    7.07e+05    \n",
      "       1         5.5532e+05      6.54e+06       5.53e+00       8.40e+04    \n",
      "       2         3.2485e+05      2.30e+05       1.42e+00       8.42e+03    \n",
      "       3         2.8916e+05      3.57e+04       2.41e+00       1.52e+03    \n",
      "       4         2.7280e+05      1.64e+04       2.84e+00       8.17e+02    \n",
      "       5         2.6790e+05      4.90e+03       1.02e+00       7.89e+02    \n",
      "       6         2.6201e+05      5.88e+03       1.36e+00       7.40e+02    \n",
      "       7         2.6072e+05      1.29e+03       3.17e-01       7.33e+02    \n",
      "       8         2.5839e+05      2.33e+03       5.97e-01       7.11e+02    \n",
      "       9         2.5754e+05      8.53e+02       2.25e-01       7.06e+02    \n",
      "      10         2.5579e+05      1.75e+03       4.77e-01       6.92e+02    \n",
      "      11         2.5530e+05      4.88e+02       1.35e-01       6.86e+02    \n",
      "      12         2.5368e+05      1.62e+03       4.62e-01       6.72e+02    \n",
      "      13         2.5323e+05      4.53e+02       1.31e-01       6.67e+02    \n",
      "      14         2.5238e+05      8.43e+02       2.49e-01       6.61e+02    \n",
      "      15         2.5200e+05      3.83e+02       1.15e-01       6.56e+02    \n",
      "      16         2.5148e+05      5.25e+02       1.59e-01       6.52e+02    \n",
      "      17         2.5084e+05      6.36e+02       1.95e-01       6.45e+02    \n",
      "      18         2.5030e+05      5.42e+02       1.69e-01       6.40e+02    \n",
      "      19         2.5001e+05      2.91e+02       9.13e-02       6.37e+02    \n",
      "      20         2.4936e+05      6.43e+02       2.05e-01       6.32e+02    \n",
      "      21         2.4911e+05      2.57e+02       8.24e-02       6.29e+02    \n",
      "      22         2.4852e+05      5.86e+02       1.90e-01       6.23e+02    \n",
      "      23         2.4822e+05      2.97e+02       9.75e-02       6.20e+02    \n",
      "      24         2.4773e+05      4.92e+02       1.63e-01       6.15e+02    \n",
      "      25         2.4742e+05      3.13e+02       1.05e-01       6.12e+02    \n",
      "      26         2.4697e+05      4.45e+02       1.50e-01       6.07e+02    \n",
      "      27         2.4662e+05      3.53e+02       1.21e-01       6.03e+02    \n",
      "      28         2.4651e+05      1.10e+02       3.80e-02       6.02e+02    \n",
      "The relative change of the cost function is less than `tol`.\n",
      "Number of iterations 29, initial cost 7.0917e+06, final cost 2.4651e+05, first-order optimality 6.02e+02.\n",
      "CPU times: user 19min 27s, sys: 1min 31s, total: 20min 59s\n",
      "Wall time: 43.6 s\n"
     ]
    }
   ],
   "source": [
    "%%time\n",
    "u_next = scipy.optimize.lsq_linear(LHS[()], RHS, bounds = (0, np.inf), tol=1e-3, lsmr_tol=1e-3, max_iter=50, verbose=2).x"
   ]
  },
  {
   "cell_type": "code",
   "execution_count": 7,
   "metadata": {},
   "outputs": [
    {
     "data": {
      "text/plain": [
       "0.0415724724490278"
      ]
     },
     "execution_count": 7,
     "metadata": {},
     "output_type": "execute_result"
    }
   ],
   "source": [
    "28981698/(37386*18647)"
   ]
  },
  {
   "cell_type": "code",
   "execution_count": 17,
   "metadata": {},
   "outputs": [
    {
     "data": {
      "text/plain": [
       "<18647x18647 sparse matrix of type '<class 'numpy.float64'>'\n",
       "\twith 65695158 stored elements in Compressed Sparse Column format>"
      ]
     },
     "execution_count": 17,
     "metadata": {},
     "output_type": "execute_result"
    }
   ],
   "source": [
    "LHS[()].T.dot(LHS[()])"
   ]
  },
  {
   "cell_type": "code",
   "execution_count": 18,
   "metadata": {},
   "outputs": [
    {
     "data": {
      "text/plain": [
       "0.18893630593825222"
      ]
     },
     "execution_count": 18,
     "metadata": {},
     "output_type": "execute_result"
    }
   ],
   "source": [
    "65695158/(18647*18647)"
   ]
  },
  {
   "cell_type": "code",
   "execution_count": 21,
   "metadata": {},
   "outputs": [],
   "source": [
    "D = np.diag(np.arange(10))"
   ]
  },
  {
   "cell_type": "code",
   "execution_count": 11,
   "metadata": {},
   "outputs": [],
   "source": [
    "A = np.random.randn(10,10)\n",
    "\n",
    "U,S,Vt = np.linalg.svd(A)"
   ]
  },
  {
   "cell_type": "code",
   "execution_count": 18,
   "metadata": {},
   "outputs": [],
   "source": [
    "P = np.random.choice(np.arange(10), 4)"
   ]
  },
  {
   "cell_type": "code",
   "execution_count": 39,
   "metadata": {},
   "outputs": [],
   "source": [
    "P = [1,3,4,9]"
   ]
  },
  {
   "cell_type": "code",
   "execution_count": 20,
   "metadata": {},
   "outputs": [],
   "source": [
    "U1, S1, Vt1 = np.linalg.svd(A[P][:,P])"
   ]
  },
  {
   "cell_type": "code",
   "execution_count": 25,
   "metadata": {},
   "outputs": [
    {
     "data": {
      "text/plain": [
       "array([[ 0.51582448, -0.81654097,  0.95151204,  0.99315119],\n",
       "       [-0.08406318,  0.11925694,  1.96232041,  1.33864881],\n",
       "       [-0.98998461,  1.25758665,  2.67232202,  1.04606496],\n",
       "       [ 0.55165747, -0.10236989,  1.64101146, -0.78055326]])"
      ]
     },
     "execution_count": 25,
     "metadata": {},
     "output_type": "execute_result"
    }
   ],
   "source": [
    "U[P].dot(np.diag(S)).dot(Vt[:,P])"
   ]
  },
  {
   "cell_type": "code",
   "execution_count": 40,
   "metadata": {},
   "outputs": [],
   "source": [
    "L = np.linalg.cholesky(A.T.dot(A))"
   ]
  },
  {
   "cell_type": "code",
   "execution_count": 41,
   "metadata": {},
   "outputs": [],
   "source": [
    "A1 = A[P][:,P]\n",
    "L1 = np.linalg.cholesky(A1.T.dot(A1))"
   ]
  },
  {
   "cell_type": "code",
   "execution_count": 42,
   "metadata": {},
   "outputs": [
    {
     "data": {
      "text/plain": [
       "array([[ 3.00981102, -1.33020858,  0.88506443,  2.78924718],\n",
       "       [-1.33020858,  7.17419922,  1.77343897, -0.29514458],\n",
       "       [ 0.88506443,  1.77343897,  8.20099224,  7.19253091],\n",
       "       [ 2.78924718, -0.29514458,  7.19253091, 15.28562295]])"
      ]
     },
     "execution_count": 42,
     "metadata": {},
     "output_type": "execute_result"
    }
   ],
   "source": [
    "L[P].dot(L[P].T) "
   ]
  },
  {
   "cell_type": "code",
   "execution_count": 43,
   "metadata": {},
   "outputs": [
    {
     "data": {
      "text/plain": [
       "array([[-6.88483406e-02,  1.73351404e+00,  0.00000000e+00,\n",
       "         0.00000000e+00,  0.00000000e+00,  0.00000000e+00,\n",
       "         0.00000000e+00,  0.00000000e+00,  0.00000000e+00,\n",
       "         0.00000000e+00],\n",
       "       [-1.36158979e+00, -8.21425002e-01, -5.83714448e-01,\n",
       "         2.07480381e+00,  0.00000000e+00,  0.00000000e+00,\n",
       "         0.00000000e+00,  0.00000000e+00,  0.00000000e+00,\n",
       "         0.00000000e+00],\n",
       "       [-6.86728552e-01,  4.83286716e-01, -4.34675295e-01,\n",
       "         4.73130965e-01,  2.66139711e+00,  0.00000000e+00,\n",
       "         0.00000000e+00,  0.00000000e+00,  0.00000000e+00,\n",
       "         0.00000000e+00],\n",
       "       [-2.32902102e-01,  1.59976337e+00, -1.19879882e+00,\n",
       "         9.96590152e-04,  2.15596772e+00,  1.44138372e+00,\n",
       "         1.39214098e+00, -4.84362373e-01,  1.44355997e+00,\n",
       "         5.02697189e-01]])"
      ]
     },
     "execution_count": 43,
     "metadata": {},
     "output_type": "execute_result"
    }
   ],
   "source": [
    "L[P]"
   ]
  },
  {
   "cell_type": "code",
   "execution_count": 44,
   "metadata": {},
   "outputs": [
    {
     "data": {
      "text/plain": [
       "array([[ 0.76833369,  0.        ,  0.        ,  0.        ],\n",
       "       [-1.07589808,  1.89845856,  0.        ,  0.        ],\n",
       "       [-0.31359244,  1.52367544,  1.0447803 ,  0.        ],\n",
       "       [ 1.07633064,  0.86383804,  0.45865957,  1.38920638]])"
      ]
     },
     "execution_count": 44,
     "metadata": {},
     "output_type": "execute_result"
    }
   ],
   "source": [
    "L1"
   ]
  },
  {
   "cell_type": "code",
   "execution_count": 26,
   "metadata": {},
   "outputs": [
    {
     "data": {
      "text/plain": [
       "array([[ 0.51582448, -0.81654097,  0.95151204,  0.99315119],\n",
       "       [-0.08406318,  0.11925694,  1.96232041,  1.33864881],\n",
       "       [-0.98998461,  1.25758665,  2.67232202,  1.04606496],\n",
       "       [ 0.55165747, -0.10236989,  1.64101146, -0.78055326]])"
      ]
     },
     "execution_count": 26,
     "metadata": {},
     "output_type": "execute_result"
    }
   ],
   "source": [
    "A[P][:,P]"
   ]
  },
  {
   "cell_type": "code",
   "execution_count": 22,
   "metadata": {},
   "outputs": [
    {
     "data": {
      "text/plain": [
       "array([[-0.24102552, -0.67670116, -0.42946161,  0.54730701],\n",
       "       [-0.54995205, -0.19879823, -0.32518904, -0.74315819],\n",
       "       [-0.7554783 ,  0.52564776,  0.08282673,  0.38221291],\n",
       "       [-0.2621297 , -0.47565663,  0.83842384, -0.04565351]])"
      ]
     },
     "execution_count": 22,
     "metadata": {},
     "output_type": "execute_result"
    }
   ],
   "source": [
    "U1"
   ]
  },
  {
   "cell_type": "code",
   "execution_count": 56,
   "metadata": {},
   "outputs": [],
   "source": [
    "I = np.random.randn(5, 10)\n",
    "subsample = [1,3,4]"
   ]
  },
  {
   "cell_type": "code",
   "execution_count": 57,
   "metadata": {},
   "outputs": [],
   "source": [
    "Q, R = np.linalg.qr(I, mode='complete')"
   ]
  },
  {
   "cell_type": "code",
   "execution_count": 58,
   "metadata": {},
   "outputs": [
    {
     "data": {
      "text/plain": [
       "array([[-0.18120632,  0.0142086 ,  0.1658266 , -0.94868183,  0.19866231],\n",
       "       [-0.3213745 , -0.02469464, -0.00851101, -0.13662145, -0.93668071],\n",
       "       [-0.62410213,  0.50272996, -0.56085739,  0.06970533,  0.19580417],\n",
       "       [ 0.65100325,  0.18195754, -0.65904685, -0.2749472 , -0.18206458],\n",
       "       [-0.22488665, -0.84459596, -0.47278466, -0.02970815,  0.1080544 ]])"
      ]
     },
     "execution_count": 58,
     "metadata": {},
     "output_type": "execute_result"
    }
   ],
   "source": [
    "Q"
   ]
  },
  {
   "cell_type": "code",
   "execution_count": 61,
   "metadata": {},
   "outputs": [
    {
     "data": {
      "text/plain": [
       "array([[ 1.9588682 ,  0.30488723, -0.69367699,  0.58317561,  0.23644199,\n",
       "        -0.77288415,  0.41594253, -2.30539522, -0.27630809, -2.79406726],\n",
       "       [ 0.        ,  1.28078078,  1.37990741, -1.88151755, -1.29825765,\n",
       "         0.0384783 ,  0.4111935 , -1.14398434,  0.30320742,  0.21102925],\n",
       "       [ 0.        ,  0.        ,  0.61413754,  0.2831482 ,  1.20772289,\n",
       "        -0.86170502, -0.3573061 , -1.57063178, -0.14841972, -0.69493263],\n",
       "       [ 0.        ,  0.        ,  0.        ,  1.27598448,  1.20154414,\n",
       "         0.60857628,  0.84683312,  1.31965267, -0.55657986, -0.86159669],\n",
       "       [ 0.        ,  0.        ,  0.        ,  0.        , -0.19077366,\n",
       "        -1.57114106, -0.5760756 , -0.6734516 , -0.56609876, -1.41249567]])"
      ]
     },
     "execution_count": 61,
     "metadata": {},
     "output_type": "execute_result"
    }
   ],
   "source": [
    "R"
   ]
  },
  {
   "cell_type": "code",
   "execution_count": 83,
   "metadata": {},
   "outputs": [],
   "source": [
    "import numpy as np\n",
    "import scipy\n",
    "\n",
    "def fnnls(AtA, Aty, epsilon=None, iter_max=None):\n",
    "    \"\"\"\n",
    "    Given a matrix A and vector y, find x which minimizes the objective function\n",
    "    f(x) = ||Ax - y||^2.\n",
    "    This algorithm is similar to the widespread Lawson-Hanson method, but\n",
    "    implements the optimizations described in the paper\n",
    "    \"A Fast Non-Negativity-Constrained Least Squares Algorithm\" by\n",
    "    Rasmus Bro and Sumen De Jong.\n",
    "    Note that the inputs are not A and y, but are\n",
    "    A^T * A and A^T * y\n",
    "    This is to avoid incurring the overhead of computing these products\n",
    "    many times in cases where we need to call this routine many times.\n",
    "    :param AtA:       A^T * A. See above for definitions. If A is an (m x n)\n",
    "                      matrix, this should be an (n x n) matrix.\n",
    "    :type AtA:        numpy.ndarray\n",
    "    :param Aty:       A^T * y. See above for definitions. If A is an (m x n)\n",
    "                      matrix and y is an m dimensional vector, this should be an\n",
    "                      n dimensional vector.\n",
    "    :type Aty:        numpy.ndarray\n",
    "    :param epsilon:   Anything less than this value is consider 0 in the code.\n",
    "                      Use this to prevent issues with floating point precision.\n",
    "                      Defaults to the machine precision for doubles.\n",
    "    :type epsilon:    float\n",
    "    :param iter_max:  Maximum number of inner loop iterations. Defaults to\n",
    "                      30 * [number of cols in A] (the same value that is used\n",
    "                      in the publication this algorithm comes from).\n",
    "    :type iter_max:   int, optional\n",
    "    \"\"\"\n",
    "    if epsilon is None:\n",
    "        epsilon = np.finfo(np.float64).eps\n",
    "\n",
    "    n = AtA.shape[0]\n",
    "\n",
    "    if iter_max is None:\n",
    "        iter_max = 30 * n\n",
    "\n",
    "    if Aty.ndim != 1 or Aty.shape[0] != n:\n",
    "        raise ValueError('Invalid dimension; got Aty vector of size {}, ' \\\n",
    "                         'expected {}'.format(Aty.shape, n))\n",
    "\n",
    "    # Represents passive and active sets.\n",
    "    # If sets[j] is 0, then index j is in the active set (R in literature).\n",
    "    # Else, it is in the passive set (P).\n",
    "    sets = np.zeros(n, dtype=np.bool)\n",
    "    # The set of all possible indices. Construct P, R by using `sets` as a mask\n",
    "    ind = np.arange(n, dtype=int)\n",
    "    P = ind[sets]\n",
    "    R = ind[~sets]\n",
    "\n",
    "    x = np.zeros(n, dtype=np.float64)\n",
    "    w = Aty\n",
    "    s = np.zeros(n, dtype=np.float64)\n",
    "\n",
    "    i = 0\n",
    "    # While R not empty and max_(n \\in R) w_n > epsilon\n",
    "    while not np.all(sets) and np.max(w[R]) > epsilon and i < iter_max:\n",
    "        # Find index of maximum element of w which is in active set.\n",
    "        j = np.argmax(w[R])\n",
    "        # We have the index in MASKED w.\n",
    "        # The real index is stored in the j-th position of R.\n",
    "        m = R[j]\n",
    "\n",
    "        # Move index from active set to passive set.\n",
    "        sets[m] = True\n",
    "        P = ind[sets]\n",
    "        R = ind[~sets]\n",
    "\n",
    "        # Get the rows, cols in AtA corresponding to P\n",
    "        AtA_in_p = AtA[P][:, P]\n",
    "        # Do the same for Aty\n",
    "        Aty_in_p = Aty[P]\n",
    "\n",
    "        # Update s. Solve (AtA)^p * s^p = (Aty)^p\n",
    "        s[P] = np.linalg.lstsq(AtA_in_p, Aty_in_p, rcond=None)[0]\n",
    "        s[R] = 0.\n",
    "\n",
    "        while np.any(s[P] <= epsilon):\n",
    "            print('Next iter, cur x {} cur w {}'.format(x,w))\n",
    "            i += 1\n",
    "\n",
    "            mask = (s[P] <= epsilon)\n",
    "            alpha = np.min(x[P][mask] / (x[P][mask] - s[P][mask]))\n",
    "            x += alpha * (s - x)\n",
    "\n",
    "            # Move all indices j in P such that x[j] = 0 to R\n",
    "            # First get all indices where x == 0 in the MASKED x\n",
    "            zero_mask = (x[P] < epsilon)\n",
    "            # These correspond to indices in P\n",
    "            zeros = P[zero_mask]\n",
    "            # Finally, update the passive/active sets.\n",
    "            sets[zeros] = False\n",
    "            P = ind[sets]\n",
    "            R = ind[~sets]\n",
    "\n",
    "            # Get the rows, cols in AtA corresponding to P\n",
    "            AtA_in_p = AtA[P][:, P]\n",
    "            # Do the same for Aty\n",
    "            Aty_in_p = Aty[P]\n",
    "\n",
    "            # Update s. Solve (AtA)^p * s^p = (Aty)^p\n",
    "            s[P] = np.linalg.lstsq(AtA_in_p, Aty_in_p, rcond=None)[0]\n",
    "            s[R] = 0.\n",
    "\n",
    "        x = s.copy()\n",
    "        w = Aty - AtA.dot(x)\n",
    "    return x"
   ]
  },
  {
   "cell_type": "code",
   "execution_count": 7,
   "metadata": {},
   "outputs": [],
   "source": [
    "A, b = LHS[()], RHS\n",
    "AtA = A.T.dot(A)\n",
    "Atb = A.T.dot(b)"
   ]
  },
  {
   "cell_type": "code",
   "execution_count": 82,
   "metadata": {},
   "outputs": [],
   "source": [
    "# AtA = AtA.toarray()\n",
    "# Atb = Atb.toarray()"
   ]
  },
  {
   "cell_type": "code",
   "execution_count": 84,
   "metadata": {},
   "outputs": [
    {
     "name": "stdout",
     "output_type": "stream",
     "text": [
      "Next iter, cur x [0. 0. 0. ... 0. 0. 0.] cur w [ 340.66940073  400.65546093  318.19990731 ... 1364.16172009 1369.9879704\n",
      " 1350.21610596]\n",
      "Next iter, cur x [0. 0. 0. ... 0. 0. 0.] cur w [ 311.25801632  285.5466971   235.27358052 ... 1364.16172009 1369.9879704\n",
      " 1350.21610596]\n",
      "Next iter, cur x [0. 0. 0. ... 0. 0. 0.] cur w [ 331.51388032  289.91566637  300.54343492 ... 1364.16172009 1369.9879704\n",
      " 1350.21610596]\n",
      "Next iter, cur x [0. 0. 0. ... 0. 0. 0.] cur w [ 277.10141999  239.8163177   255.4006283  ... 1364.16172009 1369.9879704\n",
      " 1350.21610596]\n",
      "Next iter, cur x [0. 0. 0. ... 0. 0. 0.] cur w [ 222.07072585  178.97720927  200.00128244 ... 1364.16172009 1369.9879704\n",
      " 1350.21610596]\n",
      "Next iter, cur x [0. 0. 0. ... 0. 0. 0.] cur w [ 191.29290449  191.94420903  182.41889837 ... 1364.16172009 1369.9879704\n",
      " 1350.21610596]\n",
      "Next iter, cur x [0. 0. 0. ... 0. 0. 0.] cur w [ 110.45395183   88.40777159  150.82473394 ... 1364.16172009 1369.9879704\n",
      " 1350.21610596]\n",
      "Next iter, cur x [0. 0. 0. ... 0. 0. 0.] cur w [ 110.45395183   88.40777159  150.82473394 ... 1364.16172009 1369.9879704\n",
      " 1350.21610596]\n",
      "Next iter, cur x [0. 0. 0. ... 0. 0. 0.] cur w [ 132.02737947   51.14052647  140.39286695 ... 1364.16172009 1369.9879704\n",
      " 1350.21610596]\n",
      "Next iter, cur x [0. 0. 0. ... 0. 0. 0.] cur w [ 103.37322028   16.74619509  145.92039892 ... 1364.16172009 1369.9879704\n",
      " 1350.21610596]\n",
      "Next iter, cur x [0. 0. 0. ... 0. 0. 0.] cur w [  87.05623967   49.39006133   61.63676457 ... 1364.16172009 1369.9879704\n",
      " 1350.21610596]\n",
      "Next iter, cur x [0. 0. 0. ... 0. 0. 0.] cur w [  89.53375337   51.7820869    62.69626127 ... 1364.16172009 1369.9879704\n",
      " 1350.21610596]\n",
      "Next iter, cur x [0. 0. 0. ... 0. 0. 0.] cur w [  80.08512974   47.30243059   43.6374314  ... 1364.16172009 1369.9879704\n",
      " 1350.21610596]\n",
      "Next iter, cur x [0. 0. 0. ... 0. 0. 0.] cur w [  78.18645544   49.37334295   42.36310759 ... 1364.16172009 1369.9879704\n",
      " 1350.21610596]\n",
      "Next iter, cur x [0. 0. 0. ... 0. 0. 0.] cur w [  78.75724868   49.05670719   42.62390368 ... 1364.16172009 1369.9879704\n",
      " 1350.21610596]\n",
      "Next iter, cur x [0. 0. 0. ... 0. 0. 0.] cur w [  77.29851366   49.08276734   42.52400594 ... 1364.16172009 1369.9879704\n",
      " 1350.21610596]\n",
      "Next iter, cur x [0. 0. 0. ... 0. 0. 0.] cur w [  86.46343489   51.57724566   40.80352346 ... 1364.16172009 1369.9879704\n",
      " 1350.21610596]\n",
      "Next iter, cur x [0. 0. 0. ... 0. 0. 0.] cur w [  89.31495961   44.31655561   40.5578337  ... 1364.16172009 1369.9879704\n",
      " 1350.21610596]\n",
      "Next iter, cur x [0. 0. 0. ... 0. 0. 0.] cur w [  81.41017715   47.77074655   27.34624982 ... 1364.16172009 1369.9879704\n",
      " 1350.21610596]\n",
      "Next iter, cur x [0. 0. 0. ... 0. 0. 0.] cur w [  79.05783376   49.95804287   26.90979842 ... 1364.16172009 1369.9879704\n",
      " 1350.21610596]\n",
      "Next iter, cur x [0. 0. 0. ... 0. 0. 0.] cur w [  65.65443975   34.03558162   28.97965806 ... 1272.37041065 1254.65718457\n",
      " 1208.52742917]\n",
      "Next iter, cur x [0. 0. 0. ... 0. 0. 0.] cur w [  49.91894355   41.12511421   30.96594357 ... 1272.37041065 1254.65718457\n",
      " 1208.52742917]\n",
      "Next iter, cur x [0. 0. 0. ... 0. 0. 0.] cur w [  41.13502734   28.24962767   31.89123005 ... 1269.53082959 1251.08940547\n",
      " 1204.14426386]\n",
      "Next iter, cur x [0. 0. 0. ... 0. 0. 0.] cur w [  46.17225414   27.93102227   33.69389786 ... 1269.53082959 1251.08940547\n",
      " 1204.14426386]\n",
      "Next iter, cur x [0. 0. 0. ... 0. 0. 0.] cur w [  45.46759838   19.65660008   29.34641982 ... 1269.53082959 1251.08940547\n",
      " 1204.14426386]\n",
      "Next iter, cur x [0. 0. 0. ... 0. 0. 0.] cur w [  44.59234189   11.52532473   14.01155652 ... 1269.53082959 1251.08940547\n",
      " 1204.14426386]\n",
      "Next iter, cur x [0. 0. 0. ... 0. 0. 0.] cur w [  43.45850082   10.79616597   13.94685398 ... 1269.53082959 1251.08940547\n",
      " 1204.14426386]\n",
      "Next iter, cur x [0. 0. 0. ... 0. 0. 0.] cur w [  41.45259083   11.43721956   12.97212661 ... 1269.72168697 1251.32920738\n",
      " 1204.43887051]\n",
      "Next iter, cur x [0. 0. 0. ... 0. 0. 0.] cur w [  41.45259083   11.43721956   12.97212661 ... 1269.72168697 1251.32920738\n",
      " 1204.43887051]\n",
      "Next iter, cur x [0. 0. 0. ... 0. 0. 0.] cur w [  40.47306082   11.61830418   10.44982551 ... 1283.04885243 1268.15196696\n",
      " 1225.13013951]\n",
      "CPU times: user 1h 25min 16s, sys: 5min 12s, total: 1h 30min 29s\n",
      "Wall time: 2min 22s\n"
     ]
    }
   ],
   "source": [
    "%%time\n",
    "x = fnnls(AtA, Atb, 1e-8, 30)"
   ]
  },
  {
   "cell_type": "code",
   "execution_count": 111,
   "metadata": {},
   "outputs": [
    {
     "data": {
      "text/plain": [
       "[<matplotlib.lines.Line2D at 0x7f81fb1abba8>]"
      ]
     },
     "execution_count": 111,
     "metadata": {},
     "output_type": "execute_result"
    },
    {
     "data": {
      "image/png": "[encoded data removed]",
      "text/plain": [
       "<Figure size 432x288 with 1 Axes>"
      ]
     },
     "metadata": {
      "needs_background": "light"
     },
     "output_type": "display_data"
    }
   ],
   "source": [
    "%matplotlib inline\n",
    "import matplotlib.pyplot as plt\n",
    "plt.plot(x)\n",
    "plt.plot(u_next)"
   ]
  },
  {
   "cell_type": "code",
   "execution_count": 5,
   "metadata": {},
   "outputs": [
    {
     "ename": "NameError",
     "evalue": "name 'u_next' is not defined",
     "output_type": "error",
     "traceback": [
      "\u001b[0;31m---------------------------------------------------------------------------\u001b[0m",
      "\u001b[0;31mNameError\u001b[0m                                 Traceback (most recent call last)",
      "\u001b[0;32m<ipython-input-5-801e1cce83f8>\u001b[0m in \u001b[0;36m<module>\u001b[0;34m\u001b[0m\n\u001b[1;32m      2\u001b[0m \u001b[0;32mimport\u001b[0m \u001b[0mmatplotlib\u001b[0m\u001b[0;34m.\u001b[0m\u001b[0mpyplot\u001b[0m \u001b[0;32mas\u001b[0m \u001b[0mplt\u001b[0m\u001b[0;34m\u001b[0m\u001b[0;34m\u001b[0m\u001b[0m\n\u001b[1;32m      3\u001b[0m \u001b[0;31m# plt.plot(x)\u001b[0m\u001b[0;34m\u001b[0m\u001b[0;34m\u001b[0m\u001b[0;34m\u001b[0m\u001b[0m\n\u001b[0;32m----> 4\u001b[0;31m \u001b[0mplt\u001b[0m\u001b[0;34m.\u001b[0m\u001b[0mplot\u001b[0m\u001b[0;34m(\u001b[0m\u001b[0mu_next\u001b[0m \u001b[0;34m-\u001b[0m \u001b[0mu_next1\u001b[0m\u001b[0;34m)\u001b[0m\u001b[0;34m\u001b[0m\u001b[0;34m\u001b[0m\u001b[0m\n\u001b[0m\u001b[1;32m      5\u001b[0m \u001b[0;31m# plt.plot(u_next1)\u001b[0m\u001b[0;34m\u001b[0m\u001b[0;34m\u001b[0m\u001b[0;34m\u001b[0m\u001b[0m\n",
      "\u001b[0;31mNameError\u001b[0m: name 'u_next' is not defined"
     ]
    }
   ],
   "source": [
    "%matplotlib inline\n",
    "import matplotlib.pyplot as plt\n",
    "# plt.plot(x)\n",
    "plt.plot(u_next - u_next1)\n",
    "# plt.plot(u_next1)"
   ]
  },
  {
   "cell_type": "code",
   "execution_count": 105,
   "metadata": {},
   "outputs": [
    {
     "data": {
      "text/plain": [
       "5808056.760697987"
      ]
     },
     "execution_count": 105,
     "metadata": {},
     "output_type": "execute_result"
    }
   ],
   "source": [
    "fun(x, A, b, AtA, Atb)"
   ]
  },
  {
   "cell_type": "code",
   "execution_count": 152,
   "metadata": {},
   "outputs": [
    {
     "data": {
      "text/plain": [
       "44531729.10508881"
      ]
     },
     "execution_count": 152,
     "metadata": {},
     "output_type": "execute_result"
    }
   ],
   "source": [
    "fun(res.x, A, b, AtA, Atb)"
   ]
  },
  {
   "cell_type": "code",
   "execution_count": 143,
   "metadata": {},
   "outputs": [
    {
     "data": {
      "text/plain": [
       "304378.1709474614"
      ]
     },
     "execution_count": 143,
     "metadata": {},
     "output_type": "execute_result"
    }
   ],
   "source": [
    "fun(res.x, A, b, AtA, Atb)"
   ]
  },
  {
   "cell_type": "code",
   "execution_count": 122,
   "metadata": {},
   "outputs": [
    {
     "data": {
      "text/plain": [
       "246510.2175787642"
      ]
     },
     "execution_count": 122,
     "metadata": {},
     "output_type": "execute_result"
    }
   ],
   "source": [
    "fun(u_next, A, b, AtA, Atb)"
   ]
  },
  {
   "cell_type": "code",
   "execution_count": 123,
   "metadata": {},
   "outputs": [
    {
     "data": {
      "text/plain": [
       "368597.66034185316"
      ]
     },
     "execution_count": 123,
     "metadata": {},
     "output_type": "execute_result"
    }
   ],
   "source": [
    "fun(u_next1, A, b, AtA, Atb)"
   ]
  },
  {
   "cell_type": "code",
   "execution_count": 108,
   "metadata": {},
   "outputs": [
    {
     "data": {
      "text/plain": [
       "246510.2175787642"
      ]
     },
     "execution_count": 108,
     "metadata": {},
     "output_type": "execute_result"
    }
   ],
   "source": [
    "fun(u_next, A, b, AtA, Atb)"
   ]
  },
  {
   "cell_type": "code",
   "execution_count": 90,
   "metadata": {},
   "outputs": [
    {
     "data": {
      "text/plain": [
       "array([[19.82911855,  7.28435907,  5.24591194, ...,  0.        ,\n",
       "         0.        ,  0.        ],\n",
       "       [ 7.28435907, 18.18018112,  5.44314567, ...,  0.        ,\n",
       "         0.        ,  0.        ],\n",
       "       [ 5.24591194,  5.44314567, 16.15755947, ...,  0.        ,\n",
       "         0.        ,  0.        ],\n",
       "       ...,\n",
       "       [ 0.        ,  0.        ,  0.        , ..., 25.14331311,\n",
       "        24.05842185, 22.16792159],\n",
       "       [ 0.        ,  0.        ,  0.        , ..., 24.05842185,\n",
       "        24.35524721, 23.14159515],\n",
       "       [ 0.        ,  0.        ,  0.        , ..., 22.16792159,\n",
       "        23.14159515, 22.98773504]])"
      ]
     },
     "execution_count": 90,
     "metadata": {},
     "output_type": "execute_result"
    }
   ],
   "source": [
    "AtA"
   ]
  },
  {
   "cell_type": "code",
   "execution_count": 70,
   "metadata": {},
   "outputs": [
    {
     "data": {
      "text/plain": [
       "2"
      ]
     },
     "execution_count": 70,
     "metadata": {},
     "output_type": "execute_result"
    }
   ],
   "source": [
    "AtA.ndim"
   ]
  },
  {
   "cell_type": "code",
   "execution_count": 72,
   "metadata": {},
   "outputs": [
    {
     "data": {
      "text/plain": [
       "18647"
      ]
     },
     "execution_count": 72,
     "metadata": {},
     "output_type": "execute_result"
    }
   ],
   "source": [
    "Atb.shape[0]"
   ]
  },
  {
   "cell_type": "code",
   "execution_count": 92,
   "metadata": {},
   "outputs": [],
   "source": [
    "# AtA     = A'*A; Ab = A'*b;\n",
    "# grad2    = @(x) 2*( AtA*x - Ab );bnds = ((0.25, 0.75), (0, 2.0))"
   ]
  },
  {
   "cell_type": "code",
   "execution_count": 97,
   "metadata": {},
   "outputs": [
    {
     "name": "stdout",
     "output_type": "stream",
     "text": [
      "CPU times: user 167 ms, sys: 128 ms, total: 295 ms\n",
      "Wall time: 293 ms\n"
     ]
    },
    {
     "data": {
      "text/plain": [
       "array([21359.23256198, 18705.5785539 , 15336.14699814, ...,\n",
       "          81.11286766,   101.83600344,   125.08596645])"
      ]
     },
     "execution_count": 97,
     "metadata": {},
     "output_type": "execute_result"
    }
   ],
   "source": [
    "%%time\n",
    "AtA.dot(x)"
   ]
  },
  {
   "cell_type": "code",
   "execution_count": 8,
   "metadata": {},
   "outputs": [],
   "source": [
    "AA = AtA.toarray()"
   ]
  },
  {
   "cell_type": "code",
   "execution_count": null,
   "metadata": {},
   "outputs": [],
   "source": []
  },
  {
   "cell_type": "code",
   "execution_count": 99,
   "metadata": {},
   "outputs": [
    {
     "name": "stdout",
     "output_type": "stream",
     "text": [
      "CPU times: user 1.43 s, sys: 2.51 s, total: 3.94 s\n",
      "Wall time: 99 ms\n"
     ]
    },
    {
     "data": {
      "text/plain": [
       "array([21359.23256198, 18705.5785539 , 15336.14699814, ...,\n",
       "          81.11286766,   101.83600344,   125.08596645])"
      ]
     },
     "execution_count": 99,
     "metadata": {},
     "output_type": "execute_result"
    }
   ],
   "source": [
    "%%time\n",
    "AA.dot(x)"
   ]
  },
  {
   "cell_type": "code",
   "execution_count": 94,
   "metadata": {},
   "outputs": [
    {
     "data": {
      "text/plain": [
       "0.18893630593825222"
      ]
     },
     "execution_count": 94,
     "metadata": {},
     "output_type": "execute_result"
    }
   ],
   "source": [
    "65695158/(18647*18647)"
   ]
  },
  {
   "cell_type": "code",
   "execution_count": 9,
   "metadata": {},
   "outputs": [],
   "source": [
    "import numpy as np\n",
    "from scipy.optimize import minimize\n",
    "# from numdifftools import Jacobian, Hessian\n",
    "\n",
    "def fun(x, A, b, AtA, Atb):\n",
    "    return (1/2)*np.linalg.norm(A.dot(x) - b)**2\n",
    "\n",
    "def grad(x, A, b, AtA, Atb):\n",
    "    return AtA.dot(x) - Atb \n",
    "\n",
    "# def fun_der(x, a):\n",
    "#     return Jacobian(lambda x: fun(x, a))(x).ravel()\n",
    "\n",
    "def hess(x, A, b, AtA, Atb):\n",
    "    return AtA\n",
    "\n",
    "x0 = np.zeros(AtA.shape[1])\n",
    "\n",
    "bnds = [(0, np.inf)]*x0.shape[0]"
   ]
  },
  {
   "cell_type": "code",
   "execution_count": 10,
   "metadata": {},
   "outputs": [
    {
     "name": "stdout",
     "output_type": "stream",
     "text": [
      "CPU times: user 44 ms, sys: 4 ms, total: 48 ms\n",
      "Wall time: 46.8 ms\n"
     ]
    },
    {
     "data": {
      "text/plain": [
       "array([0., 0., 0., ..., 0., 0., 0.])"
      ]
     },
     "execution_count": 10,
     "metadata": {},
     "output_type": "execute_result"
    }
   ],
   "source": [
    "%%time\n",
    "A.dot(x0)"
   ]
  },
  {
   "cell_type": "code",
   "execution_count": 138,
   "metadata": {},
   "outputs": [],
   "source": [
    "A1 = A.toarray()"
   ]
  },
  {
   "cell_type": "code",
   "execution_count": 79,
   "metadata": {},
   "outputs": [
    {
     "data": {
      "text/plain": [
       "0"
      ]
     },
     "execution_count": 79,
     "metadata": {},
     "output_type": "execute_result"
    }
   ],
   "source": [
    "max(-1,0)"
   ]
  },
  {
   "cell_type": "code",
   "execution_count": 139,
   "metadata": {},
   "outputs": [
    {
     "name": "stdout",
     "output_type": "stream",
     "text": [
      "CPU times: user 2.15 s, sys: 8.9 s, total: 11 s\n",
      "Wall time: 278 ms\n"
     ]
    },
    {
     "data": {
      "text/plain": [
       "array([0., 0., 0., ..., 0., 0., 0.])"
      ]
     },
     "execution_count": 139,
     "metadata": {},
     "output_type": "execute_result"
    }
   ],
   "source": [
    "%%time \n",
    "A1.dot(x0)"
   ]
  },
  {
   "cell_type": "code",
   "execution_count": 52,
   "metadata": {},
   "outputs": [],
   "source": [
    "obj_hist = []\n",
    "def callbackF(Xi):\n",
    "    obj_hist.append(fun(Xi, A, b, AtA, Atb))\n",
    "    return "
   ]
  },
  {
   "cell_type": "code",
   "execution_count": 77,
   "metadata": {},
   "outputs": [
    {
     "name": "stdout",
     "output_type": "stream",
     "text": [
      "      fun: 289314.27588174265\n",
      " hess_inv: <18647x18647 LbfgsInvHessProduct with dtype=float64>\n",
      "      jac: array([ 2.8273553 , 12.56588738,  2.88200665, ...,  1.64480107,\n",
      "        1.38341675,  1.18285424])\n",
      "  message: b'STOP: TOTAL NO. of ITERATIONS REACHED LIMIT'\n",
      "     nfev: 106\n",
      "      nit: 100\n",
      "   status: 1\n",
      "  success: False\n",
      "        x: array([3.90629871e-05, 0.00000000e+00, 2.75451268e-05, ...,\n",
      "       2.15107382e-01, 2.16071630e-01, 2.12952043e-01])\n",
      "CPU times: user 7min 58s, sys: 27.6 s, total: 8min 26s\n",
      "Wall time: 12.7 s\n"
     ]
    }
   ],
   "source": [
    "%%time\n",
    "res = minimize(fun, x0, args=(A, b, AA, Atb), tol = 1e-5, method='L-BFGS-B', jac=grad, bounds=bnds,callback=callbackF,\n",
    "               options = {'maxiter': 100,'disp':True})\n",
    "print(res)\n"
   ]
  },
  {
   "cell_type": "code",
   "execution_count": 73,
   "metadata": {},
   "outputs": [
    {
     "data": {
      "text/plain": [
       "[<matplotlib.lines.Line2D at 0x7fed36285358>]"
      ]
     },
     "execution_count": 73,
     "metadata": {},
     "output_type": "execute_result"
    },
    {
     "data": {
      "image/png": "[encoded data removed]",
      "text/plain": [
       "<Figure size 432x288 with 1 Axes>"
      ]
     },
     "metadata": {
      "needs_background": "light"
     },
     "output_type": "display_data"
    }
   ],
   "source": [
    "plt.plot(obj_hist[100:])"
   ]
  },
  {
   "cell_type": "code",
   "execution_count": 81,
   "metadata": {},
   "outputs": [
    {
     "name": "stdout",
     "output_type": "stream",
     "text": [
      "| niter |f evals|CG iter|  obj func   |tr radius |   opt    |  c viol  |\n",
      "|-------|-------|-------|-------------|----------|----------|----------|\n",
      "|   1   |   1   |   0   | +5.6608e+08 | 1.00e+00 | 3.62e+06 | 0.00e+00 |\n",
      "|   2   |   2   |   1   | +5.1544e+08 | 7.00e+00 | 3.51e+06 | 0.00e+00 |\n",
      "|   3   |   3   |   2   | +2.3831e+08 | 4.90e+01 | 2.43e+06 | 0.00e+00 |\n",
      "|   4   |   4   |  11   | +4.0760e+07 | 3.20e+02 | 2.21e+05 | 4.86e-01 |\n",
      "|   5   |   5   | 1256  | +8.8858e+05 | 1.61e+03 | 1.66e+04 | 4.15e+01 |\n"
     ]
    },
    {
     "ename": "KeyboardInterrupt",
     "evalue": "",
     "output_type": "error",
     "traceback": [
      "\u001b[0;31m---------------------------------------------------------------------------\u001b[0m",
      "\u001b[0;31mKeyboardInterrupt\u001b[0m                         Traceback (most recent call last)",
      "\u001b[0;32m<timed exec>\u001b[0m in \u001b[0;36m<module>\u001b[0;34m\u001b[0m\n",
      "\u001b[0;32m~/miniconda3/envs/mmort/lib/python3.6/site-packages/scipy/optimize/_minimize.py\u001b[0m in \u001b[0;36mminimize\u001b[0;34m(fun, x0, args, method, jac, hess, hessp, bounds, constraints, tol, callback, options)\u001b[0m\n\u001b[1;32m    610\u001b[0m         return _minimize_trustregion_constr(fun, x0, args, jac, hess, hessp,\n\u001b[1;32m    611\u001b[0m                                             \u001b[0mbounds\u001b[0m\u001b[0;34m,\u001b[0m \u001b[0mconstraints\u001b[0m\u001b[0;34m,\u001b[0m\u001b[0;34m\u001b[0m\u001b[0;34m\u001b[0m\u001b[0m\n\u001b[0;32m--> 612\u001b[0;31m                                             callback=callback, **options)\n\u001b[0m\u001b[1;32m    613\u001b[0m     \u001b[0;32melif\u001b[0m \u001b[0mmeth\u001b[0m \u001b[0;34m==\u001b[0m \u001b[0;34m'dogleg'\u001b[0m\u001b[0;34m:\u001b[0m\u001b[0;34m\u001b[0m\u001b[0;34m\u001b[0m\u001b[0m\n\u001b[1;32m    614\u001b[0m         return _minimize_dogleg(fun, x0, args, jac, hess,\n",
      "\u001b[0;32m~/miniconda3/envs/mmort/lib/python3.6/site-packages/scipy/optimize/_trustregion_constr/minimize_trustregion_constr.py\u001b[0m in \u001b[0;36m_minimize_trustregion_constr\u001b[0;34m(fun, x0, args, grad, hess, hessp, bounds, constraints, xtol, gtol, barrier_tol, sparse_jacobian, callback, maxiter, verbose, finite_diff_rel_step, initial_constr_penalty, initial_tr_radius, initial_barrier_parameter, initial_barrier_tolerance, factorization_method, disp)\u001b[0m\n\u001b[1;32m    517\u001b[0m             \u001b[0minitial_barrier_tolerance\u001b[0m\u001b[0;34m,\u001b[0m\u001b[0;34m\u001b[0m\u001b[0;34m\u001b[0m\u001b[0m\n\u001b[1;32m    518\u001b[0m             \u001b[0minitial_constr_penalty\u001b[0m\u001b[0;34m,\u001b[0m \u001b[0minitial_tr_radius\u001b[0m\u001b[0;34m,\u001b[0m\u001b[0;34m\u001b[0m\u001b[0;34m\u001b[0m\u001b[0m\n\u001b[0;32m--> 519\u001b[0;31m             factorization_method)\n\u001b[0m\u001b[1;32m    520\u001b[0m \u001b[0;34m\u001b[0m\u001b[0m\n\u001b[1;32m    521\u001b[0m     \u001b[0;31m# Status 3 occurs when the callback function requests termination,\u001b[0m\u001b[0;34m\u001b[0m\u001b[0;34m\u001b[0m\u001b[0;34m\u001b[0m\u001b[0m\n",
      "\u001b[0;32m~/miniconda3/envs/mmort/lib/python3.6/site-packages/scipy/optimize/_trustregion_constr/tr_interior_point.py\u001b[0m in \u001b[0;36mtr_interior_point\u001b[0;34m(fun, grad, lagr_hess, n_vars, n_ineq, n_eq, constr, jac, x0, fun0, grad0, constr_ineq0, jac_ineq0, constr_eq0, jac_eq0, stop_criteria, enforce_feasibility, xtol, state, initial_barrier_parameter, initial_tolerance, initial_penalty, initial_trust_radius, factorization_method)\u001b[0m\n\u001b[1;32m    327\u001b[0m             \u001b[0mconstr0_subprob\u001b[0m\u001b[0;34m,\u001b[0m \u001b[0mjac0_subprob\u001b[0m\u001b[0;34m,\u001b[0m \u001b[0msubprob\u001b[0m\u001b[0;34m.\u001b[0m\u001b[0mstop_criteria\u001b[0m\u001b[0;34m,\u001b[0m\u001b[0;34m\u001b[0m\u001b[0;34m\u001b[0m\u001b[0m\n\u001b[1;32m    328\u001b[0m             \u001b[0mstate\u001b[0m\u001b[0;34m,\u001b[0m \u001b[0minitial_penalty\u001b[0m\u001b[0;34m,\u001b[0m \u001b[0mtrust_radius\u001b[0m\u001b[0;34m,\u001b[0m\u001b[0;34m\u001b[0m\u001b[0;34m\u001b[0m\u001b[0m\n\u001b[0;32m--> 329\u001b[0;31m             factorization_method, trust_lb, trust_ub, subprob.scaling)\n\u001b[0m\u001b[1;32m    330\u001b[0m         \u001b[0;32mif\u001b[0m \u001b[0msubprob\u001b[0m\u001b[0;34m.\u001b[0m\u001b[0mterminate\u001b[0m\u001b[0;34m:\u001b[0m\u001b[0;34m\u001b[0m\u001b[0;34m\u001b[0m\u001b[0m\n\u001b[1;32m    331\u001b[0m             \u001b[0;32mbreak\u001b[0m\u001b[0;34m\u001b[0m\u001b[0;34m\u001b[0m\u001b[0m\n",
      "\u001b[0;32m~/miniconda3/envs/mmort/lib/python3.6/site-packages/scipy/optimize/_trustregion_constr/equality_constrained_sqp.py\u001b[0m in \u001b[0;36mequality_constrained_sqp\u001b[0;34m(fun_and_constr, grad_and_jac, lagr_hess, x0, fun0, grad0, constr0, jac0, stop_criteria, state, initial_penalty, initial_trust_radius, factorization_method, trust_lb, trust_ub, scaling)\u001b[0m\n\u001b[1;32m    119\u001b[0m         dt, cg_info = projected_cg(H, c_t, Z, Y, b_t,\n\u001b[1;32m    120\u001b[0m                                    \u001b[0mtrust_radius_t\u001b[0m\u001b[0;34m,\u001b[0m\u001b[0;34m\u001b[0m\u001b[0;34m\u001b[0m\u001b[0m\n\u001b[0;32m--> 121\u001b[0;31m                                    lb_t, ub_t)\n\u001b[0m\u001b[1;32m    122\u001b[0m \u001b[0;34m\u001b[0m\u001b[0m\n\u001b[1;32m    123\u001b[0m         \u001b[0;31m# Compute update (normal + tangential steps).\u001b[0m\u001b[0;34m\u001b[0m\u001b[0;34m\u001b[0m\u001b[0;34m\u001b[0m\u001b[0m\n",
      "\u001b[0;32m~/miniconda3/envs/mmort/lib/python3.6/site-packages/scipy/optimize/_trustregion_constr/qp_subproblem.py\u001b[0m in \u001b[0;36mprojected_cg\u001b[0;34m(H, c, Z, Y, b, trust_radius, lb, ub, tol, max_iter, max_infeasible_iter, return_all)\u001b[0m\n\u001b[1;32m    599\u001b[0m         \u001b[0;32mif\u001b[0m \u001b[0mcounter\u001b[0m \u001b[0;34m>\u001b[0m \u001b[0;36m0\u001b[0m\u001b[0;34m:\u001b[0m\u001b[0;34m\u001b[0m\u001b[0;34m\u001b[0m\u001b[0m\n\u001b[1;32m    600\u001b[0m             _, theta, intersect = box_sphere_intersections(x, alpha*p, lb, ub,\n\u001b[0;32m--> 601\u001b[0;31m                                                            trust_radius)\n\u001b[0m\u001b[1;32m    602\u001b[0m             \u001b[0;32mif\u001b[0m \u001b[0mintersect\u001b[0m\u001b[0;34m:\u001b[0m\u001b[0;34m\u001b[0m\u001b[0;34m\u001b[0m\u001b[0m\n\u001b[1;32m    603\u001b[0m                 \u001b[0mlast_feasible_x\u001b[0m \u001b[0;34m=\u001b[0m \u001b[0mx\u001b[0m \u001b[0;34m+\u001b[0m \u001b[0mtheta\u001b[0m\u001b[0;34m*\u001b[0m\u001b[0malpha\u001b[0m\u001b[0;34m*\u001b[0m\u001b[0mp\u001b[0m\u001b[0;34m\u001b[0m\u001b[0;34m\u001b[0m\u001b[0m\n",
      "\u001b[0;32m~/miniconda3/envs/mmort/lib/python3.6/site-packages/scipy/optimize/_trustregion_constr/qp_subproblem.py\u001b[0m in \u001b[0;36mbox_sphere_intersections\u001b[0;34m(z, d, lb, ub, trust_radius, entire_line, extra_info)\u001b[0m\n\u001b[1;32m    285\u001b[0m     \"\"\"\n\u001b[1;32m    286\u001b[0m     ta_b, tb_b, intersect_b = box_intersections(z, d, lb, ub,\n\u001b[0;32m--> 287\u001b[0;31m                                                 entire_line)\n\u001b[0m\u001b[1;32m    288\u001b[0m     ta_s, tb_s, intersect_s = sphere_intersections(z, d,\n\u001b[1;32m    289\u001b[0m                                                    \u001b[0mtrust_radius\u001b[0m\u001b[0;34m,\u001b[0m\u001b[0;34m\u001b[0m\u001b[0;34m\u001b[0m\u001b[0m\n",
      "\u001b[0;32m~/miniconda3/envs/mmort/lib/python3.6/site-packages/scipy/optimize/_trustregion_constr/qp_subproblem.py\u001b[0m in \u001b[0;36mbox_intersections\u001b[0;34m(z, d, lb, ub, entire_line)\u001b[0m\n\u001b[1;32m    214\u001b[0m     \u001b[0;31m# Get the intersection of all those intervals.\u001b[0m\u001b[0;34m\u001b[0m\u001b[0;34m\u001b[0m\u001b[0;34m\u001b[0m\u001b[0m\n\u001b[1;32m    215\u001b[0m     \u001b[0mta\u001b[0m \u001b[0;34m=\u001b[0m \u001b[0mmax\u001b[0m\u001b[0;34m(\u001b[0m\u001b[0mnp\u001b[0m\u001b[0;34m.\u001b[0m\u001b[0mminimum\u001b[0m\u001b[0;34m(\u001b[0m\u001b[0mt_lb\u001b[0m\u001b[0;34m,\u001b[0m \u001b[0mt_ub\u001b[0m\u001b[0;34m)\u001b[0m\u001b[0;34m)\u001b[0m\u001b[0;34m\u001b[0m\u001b[0;34m\u001b[0m\u001b[0m\n\u001b[0;32m--> 216\u001b[0;31m     \u001b[0mtb\u001b[0m \u001b[0;34m=\u001b[0m \u001b[0mmin\u001b[0m\u001b[0;34m(\u001b[0m\u001b[0mnp\u001b[0m\u001b[0;34m.\u001b[0m\u001b[0mmaximum\u001b[0m\u001b[0;34m(\u001b[0m\u001b[0mt_lb\u001b[0m\u001b[0;34m,\u001b[0m \u001b[0mt_ub\u001b[0m\u001b[0;34m)\u001b[0m\u001b[0;34m)\u001b[0m\u001b[0;34m\u001b[0m\u001b[0;34m\u001b[0m\u001b[0m\n\u001b[0m\u001b[1;32m    217\u001b[0m \u001b[0;34m\u001b[0m\u001b[0m\n\u001b[1;32m    218\u001b[0m     \u001b[0;31m# Check if intersection is feasible\u001b[0m\u001b[0;34m\u001b[0m\u001b[0;34m\u001b[0m\u001b[0;34m\u001b[0m\u001b[0m\n",
      "\u001b[0;31mKeyboardInterrupt\u001b[0m: "
     ]
    }
   ],
   "source": [
    "%%time\n",
    "res = minimize(fun, x0, args=(A, b, AA, Atb), method='trust-constr', jac=grad, hess = hess, bounds=bnds, options = {'maxiter': 10,'xtol': 1e-05, 'gtol': 1e-03, 'barrier_tol': 1e-03, 'verbose': 2,\n",
    "                                                                                                    'disp':True})\n",
    "print(res)\n"
   ]
  },
  {
   "cell_type": "code",
   "execution_count": 13,
   "metadata": {},
   "outputs": [
    {
     "data": {
      "text/plain": [
       "[<matplotlib.lines.Line2D at 0x7fed404e1a20>]"
      ]
     },
     "execution_count": 13,
     "metadata": {},
     "output_type": "execute_result"
    },
    {
     "data": {
      "image/png": "[encoded data removed]",
      "text/plain": [
       "<Figure size 432x288 with 1 Axes>"
      ]
     },
     "metadata": {
      "needs_background": "light"
     },
     "output_type": "display_data"
    }
   ],
   "source": [
    "plt.plot(res.x)\n",
    "# plt.plot(u_next)"
   ]
  },
  {
   "cell_type": "code",
   "execution_count": null,
   "metadata": {},
   "outputs": [],
   "source": [
    "res."
   ]
  },
  {
   "cell_type": "code",
   "execution_count": 78,
   "metadata": {},
   "outputs": [
    {
     "data": {
      "text/plain": [
       "[<matplotlib.lines.Line2D at 0x7fed362676d8>]"
      ]
     },
     "execution_count": 78,
     "metadata": {},
     "output_type": "execute_result"
    },
    {
     "data": {
      "image/png": "[encoded data removed]",
      "text/plain": [
       "<Figure size 432x288 with 1 Axes>"
      ]
     },
     "metadata": {
      "needs_background": "light"
     },
     "output_type": "display_data"
    }
   ],
   "source": [
    "plt.plot(res.x)"
   ]
  },
  {
   "cell_type": "code",
   "execution_count": 15,
   "metadata": {},
   "outputs": [
    {
     "data": {
      "text/plain": [
       "220657.26219705868"
      ]
     },
     "execution_count": 15,
     "metadata": {},
     "output_type": "execute_result"
    }
   ],
   "source": [
    "fun(res.x, A, b, AtA, Atb)"
   ]
  },
  {
   "cell_type": "code",
   "execution_count": 17,
   "metadata": {},
   "outputs": [
    {
     "data": {
      "text/plain": [
       "219157.02564337058"
      ]
     },
     "execution_count": 17,
     "metadata": {},
     "output_type": "execute_result"
    }
   ],
   "source": [
    "fun(res.x, A, b, AtA, Atb)"
   ]
  },
  {
   "cell_type": "code",
   "execution_count": null,
   "metadata": {},
   "outputs": [],
   "source": []
  }
 ],
 "metadata": {
  "kernelspec": {
   "display_name": "mmort",
   "language": "python",
   "name": "mmort"
  },
  "language_info": {
   "codemirror_mode": {
    "name": "ipython",
    "version": 3
   },
   "file_extension": ".py",
   "mimetype": "text/x-python",
   "name": "python",
   "nbconvert_exporter": "python",
   "pygments_lexer": "ipython3",
   "version": "3.6.9"
  }
 },
 "nbformat": 4,
 "nbformat_minor": 4
}
